{
 "cells": [
  {
   "cell_type": "code",
   "execution_count": 3,
   "metadata": {},
   "outputs": [],
   "source": [
    "import pandas as pd\n",
    "\n",
    "df = pd.read_csv(\"inspector.csv.csv\")\n"
   ]
  },
  {
   "cell_type": "code",
   "execution_count": 9,
   "metadata": {},
   "outputs": [
    {
     "name": "stdout",
     "output_type": "stream",
     "text": [
      "calc distance\n",
      " \"donor search\"\n",
      " \"modify query points\"\n",
      " \"n2n\"\n",
      " \"overdecompose\"\n",
      " \"overlap-counts\"\n",
      " \"pack\"\n",
      " \"partition info\"\n"
     ]
    }
   ],
   "source": [
    "for col in df.columns:\n",
    "    print(col)\n",
    "    \n",
    "    \n",
    "    "
   ]
  },
  {
   "cell_type": "code",
   "execution_count": 8,
   "metadata": {},
   "outputs": [
    {
     "data": {
      "text/plain": [
       "<matplotlib.axes._subplots.AxesSubplot at 0x119d31358>"
      ]
     },
     "execution_count": 8,
     "metadata": {},
     "output_type": "execute_result"
    },
    {
     "data": {
      "image/png": "[encoded data removed]",
      "text/plain": [
       "<Figure size 432x288 with 1 Axes>"
      ]
     },
     "metadata": {
      "needs_background": "light"
     },
     "output_type": "display_data"
    }
   ],
   "source": [
    "df.plot.scatter(x=' \"overlap-counts\"',y=' \"donor search\"')"
   ]
  },
  {
   "cell_type": "code",
   "execution_count": 10,
   "metadata": {},
   "outputs": [
    {
     "data": {
      "text/html": [
       "<div>\n",
       "<style scoped>\n",
       "    .dataframe tbody tr th:only-of-type {\n",
       "        vertical-align: middle;\n",
       "    }\n",
       "\n",
       "    .dataframe tbody tr th {\n",
       "        vertical-align: top;\n",
       "    }\n",
       "\n",
       "    .dataframe thead th {\n",
       "        text-align: right;\n",
       "    }\n",
       "</style>\n",
       "<table border=\"1\" class=\"dataframe\">\n",
       "  <thead>\n",
       "    <tr style=\"text-align: right;\">\n",
       "      <th></th>\n",
       "      <th>calc distance</th>\n",
       "      <th>\"donor search\"</th>\n",
       "      <th>\"modify query points\"</th>\n",
       "      <th>\"n2n\"</th>\n",
       "      <th>\"overdecompose\"</th>\n",
       "      <th>\"overlap-counts\"</th>\n",
       "      <th>\"pack\"</th>\n",
       "      <th>\"partition info\"</th>\n",
       "    </tr>\n",
       "  </thead>\n",
       "  <tbody>\n",
       "    <tr>\n",
       "      <th>calc distance</th>\n",
       "      <td>1.000000</td>\n",
       "      <td>-0.237209</td>\n",
       "      <td>-0.029610</td>\n",
       "      <td>0.053270</td>\n",
       "      <td>0.050195</td>\n",
       "      <td>-0.278443</td>\n",
       "      <td>-0.384660</td>\n",
       "      <td>-0.013569</td>\n",
       "    </tr>\n",
       "    <tr>\n",
       "      <th>\"donor search\"</th>\n",
       "      <td>-0.237209</td>\n",
       "      <td>1.000000</td>\n",
       "      <td>0.056187</td>\n",
       "      <td>-0.004712</td>\n",
       "      <td>-0.054973</td>\n",
       "      <td>0.644291</td>\n",
       "      <td>0.242434</td>\n",
       "      <td>0.088929</td>\n",
       "    </tr>\n",
       "    <tr>\n",
       "      <th>\"modify query points\"</th>\n",
       "      <td>-0.029610</td>\n",
       "      <td>0.056187</td>\n",
       "      <td>1.000000</td>\n",
       "      <td>0.021266</td>\n",
       "      <td>-0.027970</td>\n",
       "      <td>0.077906</td>\n",
       "      <td>0.076547</td>\n",
       "      <td>0.070666</td>\n",
       "    </tr>\n",
       "    <tr>\n",
       "      <th>\"n2n\"</th>\n",
       "      <td>0.053270</td>\n",
       "      <td>-0.004712</td>\n",
       "      <td>0.021266</td>\n",
       "      <td>1.000000</td>\n",
       "      <td>-0.000155</td>\n",
       "      <td>-0.001894</td>\n",
       "      <td>-0.001098</td>\n",
       "      <td>0.560832</td>\n",
       "    </tr>\n",
       "    <tr>\n",
       "      <th>\"overdecompose\"</th>\n",
       "      <td>0.050195</td>\n",
       "      <td>-0.054973</td>\n",
       "      <td>-0.027970</td>\n",
       "      <td>-0.000155</td>\n",
       "      <td>1.000000</td>\n",
       "      <td>-0.067518</td>\n",
       "      <td>-0.130919</td>\n",
       "      <td>-0.409889</td>\n",
       "    </tr>\n",
       "    <tr>\n",
       "      <th>\"overlap-counts\"</th>\n",
       "      <td>-0.278443</td>\n",
       "      <td>0.644291</td>\n",
       "      <td>0.077906</td>\n",
       "      <td>-0.001894</td>\n",
       "      <td>-0.067518</td>\n",
       "      <td>1.000000</td>\n",
       "      <td>0.523371</td>\n",
       "      <td>0.093286</td>\n",
       "    </tr>\n",
       "    <tr>\n",
       "      <th>\"pack\"</th>\n",
       "      <td>-0.384660</td>\n",
       "      <td>0.242434</td>\n",
       "      <td>0.076547</td>\n",
       "      <td>-0.001098</td>\n",
       "      <td>-0.130919</td>\n",
       "      <td>0.523371</td>\n",
       "      <td>1.000000</td>\n",
       "      <td>0.128632</td>\n",
       "    </tr>\n",
       "    <tr>\n",
       "      <th>\"partition info\"</th>\n",
       "      <td>-0.013569</td>\n",
       "      <td>0.088929</td>\n",
       "      <td>0.070666</td>\n",
       "      <td>0.560832</td>\n",
       "      <td>-0.409889</td>\n",
       "      <td>0.093286</td>\n",
       "      <td>0.128632</td>\n",
       "      <td>1.000000</td>\n",
       "    </tr>\n",
       "  </tbody>\n",
       "</table>\n",
       "</div>"
      ],
      "text/plain": [
       "                        calc distance   \"donor search\"  \\\n",
       "calc distance                1.000000        -0.237209   \n",
       " \"donor search\"             -0.237209         1.000000   \n",
       " \"modify query points\"      -0.029610         0.056187   \n",
       " \"n2n\"                       0.053270        -0.004712   \n",
       " \"overdecompose\"             0.050195        -0.054973   \n",
       " \"overlap-counts\"           -0.278443         0.644291   \n",
       " \"pack\"                     -0.384660         0.242434   \n",
       " \"partition info\"           -0.013569         0.088929   \n",
       "\n",
       "                         \"modify query points\"     \"n2n\"   \"overdecompose\"  \\\n",
       "calc distance                        -0.029610  0.053270          0.050195   \n",
       " \"donor search\"                       0.056187 -0.004712         -0.054973   \n",
       " \"modify query points\"                1.000000  0.021266         -0.027970   \n",
       " \"n2n\"                                0.021266  1.000000         -0.000155   \n",
       " \"overdecompose\"                     -0.027970 -0.000155          1.000000   \n",
       " \"overlap-counts\"                     0.077906 -0.001894         -0.067518   \n",
       " \"pack\"                               0.076547 -0.001098         -0.130919   \n",
       " \"partition info\"                     0.070666  0.560832         -0.409889   \n",
       "\n",
       "                         \"overlap-counts\"    \"pack\"   \"partition info\"  \n",
       "calc distance                   -0.278443 -0.384660          -0.013569  \n",
       " \"donor search\"                  0.644291  0.242434           0.088929  \n",
       " \"modify query points\"           0.077906  0.076547           0.070666  \n",
       " \"n2n\"                          -0.001894 -0.001098           0.560832  \n",
       " \"overdecompose\"                -0.067518 -0.130919          -0.409889  \n",
       " \"overlap-counts\"                1.000000  0.523371           0.093286  \n",
       " \"pack\"                          0.523371  1.000000           0.128632  \n",
       " \"partition info\"                0.093286  0.128632           1.000000  "
      ]
     },
     "execution_count": 10,
     "metadata": {},
     "output_type": "execute_result"
    }
   ],
   "source": [
    "df.corr()\n"
   ]
  },
  {
   "cell_type": "code",
   "execution_count": null,
   "metadata": {},
   "outputs": [],
   "source": []
  }
 ],
 "metadata": {
  "kernelspec": {
   "display_name": "Python 3",
   "language": "python",
   "name": "python3"
  },
  "language_info": {
   "codemirror_mode": {
    "name": "ipython",
    "version": 3
   },
   "file_extension": ".py",
   "mimetype": "text/x-python",
   "name": "python",
   "nbconvert_exporter": "python",
   "pygments_lexer": "ipython3",
   "version": "3.7.3"
  }
 },
 "nbformat": 4,
 "nbformat_minor": 4
}
