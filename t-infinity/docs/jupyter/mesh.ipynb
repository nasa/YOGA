{
 "cells": [
  {
   "cell_type": "markdown",
   "metadata": {
    "pycharm": {
     "name": "#%% md\n"
    }
   },
   "source": [
    "# Getting mesh global node count\n",
    "\n",
    "To import the t-infinity runtime python library:"
   ]
  },
  {
   "cell_type": "code",
   "execution_count": 1,
   "metadata": {
    "pycharm": {
     "is_executing": false,
     "name": "#%%\n"
    }
   },
   "outputs": [],
   "source": [
    "import infinity_plugins as infinity\n"
   ]
  },
  {
   "cell_type": "markdown",
   "metadata": {
    "pycharm": {
     "name": "#%% md\n"
    }
   },
   "source": [
    "\n",
    "Next define the preprocessor name and mesh to load"
   ]
  },
  {
   "cell_type": "code",
   "execution_count": 2,
   "metadata": {
    "pycharm": {
     "is_executing": false,
     "name": "#%%\n"
    }
   },
   "outputs": [],
   "source": [
    "preprocessor_name = \"ParfaitPlugins\"\n",
    "mesh_filename = ...\n"
   ]
  },
  {
   "cell_type": "markdown",
   "metadata": {
    "pycharm": {
     "name": "#%% md\n"
    }
   },
   "source": [
    "\n",
    "Now we can print some metrics from the mesh"
   ]
  },
  {
   "cell_type": "code",
   "execution_count": 3,
   "metadata": {
    "pycharm": {
     "is_executing": false,
     "name": "#%%\n"
    }
   },
   "outputs": [
    {
     "ename": "TypeError",
     "evalue": "load(): incompatible function arguments. The following argument types are supported:\n    1. (self: infinity_plugins._infinity_plugins.PyMeshLoader, arg0: str, arg1: inf::plugins::Communicator) -> inf::plugins::Mesh\n\nInvoked with: <infinity_plugins._infinity_plugins.PyMeshLoader object at 0x103d83f80>, Ellipsis, <infinity_plugins._infinity_plugins.Communicator object at 0x103d83ea0>",
     "output_type": "error",
     "traceback": [
      "\u001b[0;31m---------------------------------------------------------------------------\u001b[0m",
      "\u001b[0;31mTypeError\u001b[0m                                 Traceback (most recent call last)",
      "\u001b[0;32m<ipython-input-3-e019e4e3c9d2>\u001b[0m in \u001b[0;36m<module>\u001b[0;34m\u001b[0m\n\u001b[1;32m      2\u001b[0m \u001b[0minfinity\u001b[0m\u001b[0;34m.\u001b[0m\u001b[0minitializeMPI\u001b[0m\u001b[0;34m(\u001b[0m\u001b[0;34m)\u001b[0m\u001b[0;34m\u001b[0m\u001b[0;34m\u001b[0m\u001b[0m\n\u001b[1;32m      3\u001b[0m \u001b[0mcomm\u001b[0m \u001b[0;34m=\u001b[0m \u001b[0minfinity\u001b[0m\u001b[0;34m.\u001b[0m\u001b[0mgetCommunicator\u001b[0m\u001b[0;34m(\u001b[0m\u001b[0;34m)\u001b[0m\u001b[0;34m\u001b[0m\u001b[0;34m\u001b[0m\u001b[0m\n\u001b[0;32m----> 4\u001b[0;31m \u001b[0mmesh\u001b[0m \u001b[0;34m=\u001b[0m \u001b[0minfinity\u001b[0m\u001b[0;34m.\u001b[0m\u001b[0mimport_mesh\u001b[0m\u001b[0;34m(\u001b[0m\u001b[0mpreprocessor_name\u001b[0m\u001b[0;34m,\u001b[0m \u001b[0mmesh_filename\u001b[0m\u001b[0;34m,\u001b[0m \u001b[0mcomm\u001b[0m\u001b[0;34m)\u001b[0m\u001b[0;34m\u001b[0m\u001b[0;34m\u001b[0m\u001b[0m\n\u001b[0m\u001b[1;32m      5\u001b[0m \u001b[0;34m\u001b[0m\u001b[0m\n\u001b[1;32m      6\u001b[0m \u001b[0mprint\u001b[0m\u001b[0;34m(\u001b[0m\u001b[0;34m\"Number of nodes in mesh: %d\"\u001b[0m \u001b[0;34m%\u001b[0m \u001b[0mmesh\u001b[0m\u001b[0;34m.\u001b[0m\u001b[0mglobalNodeCount\u001b[0m\u001b[0;34m(\u001b[0m\u001b[0mcomm\u001b[0m\u001b[0;34m)\u001b[0m\u001b[0;34m)\u001b[0m\u001b[0;34m\u001b[0m\u001b[0;34m\u001b[0m\u001b[0m\n",
      "\u001b[0;32m~/one-ring/install/python/infinity_plugins/plugin_helpers.py\u001b[0m in \u001b[0;36mimport_mesh\u001b[0;34m(preprocessor_name, mesh_filename, comm)\u001b[0m\n\u001b[1;32m     10\u001b[0m \u001b[0;32mdef\u001b[0m \u001b[0mimport_mesh\u001b[0m\u001b[0;34m(\u001b[0m\u001b[0mpreprocessor_name\u001b[0m\u001b[0;34m,\u001b[0m \u001b[0mmesh_filename\u001b[0m\u001b[0;34m,\u001b[0m \u001b[0mcomm\u001b[0m\u001b[0;34m=\u001b[0m\u001b[0minfinity\u001b[0m\u001b[0;34m.\u001b[0m\u001b[0mgetCommunicator\u001b[0m\u001b[0;34m(\u001b[0m\u001b[0;34m)\u001b[0m\u001b[0;34m)\u001b[0m\u001b[0;34m:\u001b[0m\u001b[0;34m\u001b[0m\u001b[0;34m\u001b[0m\u001b[0m\n\u001b[1;32m     11\u001b[0m     \u001b[0mpreprocessor\u001b[0m \u001b[0;34m=\u001b[0m \u001b[0minfinity\u001b[0m\u001b[0;34m.\u001b[0m\u001b[0mPyMeshLoader\u001b[0m\u001b[0;34m(\u001b[0m\u001b[0mget_plugin_library_path\u001b[0m\u001b[0;34m(\u001b[0m\u001b[0;34m)\u001b[0m\u001b[0;34m,\u001b[0m \u001b[0mpreprocessor_name\u001b[0m\u001b[0;34m)\u001b[0m\u001b[0;34m\u001b[0m\u001b[0;34m\u001b[0m\u001b[0m\n\u001b[0;32m---> 12\u001b[0;31m     \u001b[0;32mreturn\u001b[0m \u001b[0mpreprocessor\u001b[0m\u001b[0;34m.\u001b[0m\u001b[0mload\u001b[0m\u001b[0;34m(\u001b[0m\u001b[0mmesh_filename\u001b[0m\u001b[0;34m,\u001b[0m \u001b[0mcomm\u001b[0m\u001b[0;34m)\u001b[0m\u001b[0;34m\u001b[0m\u001b[0;34m\u001b[0m\u001b[0m\n\u001b[0m\u001b[1;32m     13\u001b[0m \u001b[0;34m\u001b[0m\u001b[0m\n\u001b[1;32m     14\u001b[0m \u001b[0;34m\u001b[0m\u001b[0m\n",
      "\u001b[0;31mTypeError\u001b[0m: load(): incompatible function arguments. The following argument types are supported:\n    1. (self: infinity_plugins._infinity_plugins.PyMeshLoader, arg0: str, arg1: inf::plugins::Communicator) -> inf::plugins::Mesh\n\nInvoked with: <infinity_plugins._infinity_plugins.PyMeshLoader object at 0x103d83f80>, Ellipsis, <infinity_plugins._infinity_plugins.Communicator object at 0x103d83ea0>"
     ]
    }
   ],
   "source": [
    "\n",
    "infinity.initializeMPI()\n",
    "comm = infinity.getCommunicator()\n",
    "mesh = infinity.import_mesh(preprocessor_name, mesh_filename, comm)\n",
    "\n",
    "print(\"Number of nodes in mesh: %d\" % mesh.globalNodeCount(comm))\n",
    "\n",
    "infinity.finalizeMPI()\n"
   ]
  },
  {
   "cell_type": "code",
   "execution_count": null,
   "metadata": {},
   "outputs": [],
   "source": []
  }
 ],
 "metadata": {
  "kernelspec": {
   "display_name": "Python 3",
   "language": "python",
   "name": "python3"
  },
  "language_info": {
   "codemirror_mode": {
    "name": "ipython",
    "version": 3
   },
   "file_extension": ".py",
   "mimetype": "text/x-python",
   "name": "python",
   "nbconvert_exporter": "python",
   "pygments_lexer": "ipython3",
   "version": "3.7.3"
  },
  "pycharm": {
   "stem_cell": {
    "cell_type": "raw",
    "metadata": {
     "collapsed": false
    },
    "source": []
   }
  }
 },
 "nbformat": 4,
 "nbformat_minor": 1
}
