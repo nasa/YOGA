{
 "cells": [
  {
   "cell_type": "markdown",
   "metadata": {
    "pycharm": {
     "name": "#%% md\n"
    }
   },
   "source": [
    "\n",
    "## Monitor HyperSolve Convergence\n",
    "\n",
    "First, set up the HyperSolve solver in the correct working directory.  Set \"case_directory\" below.\n"
   ]
  },
  {
   "cell_type": "code",
   "execution_count": null,
   "metadata": {
    "pycharm": {
     "is_executing": false,
     "name": "#%%\n"
    }
   },
   "outputs": [],
   "source": [
    "import json\n",
    "import os\n",
    "\n",
    "import infinity_plugins as infinity\n",
    "\n",
    "infinity.initializeMPI()\n",
    "\n",
    "case_directory = ...\n",
    "os.chdir(case_directory)\n",
    "\n",
    "with open(\"hypersolve.json\") as f:\n",
    "    config = json.load(f)\n",
    "\n",
    "comm = infinity.getCommunicator()\n",
    "mesh = infinity.import_mesh(config[\"preprocessor\"], config[\"mesh filename\"], comm)\n",
    "\n",
    "hs_config = config[\"HyperSolve\"]\n",
    "\n",
    "hs_config[\"nonlinear solver settings\"][\"max time steps\"] = 1\n",
    "solver = infinity.PyFluidSolver(\"HyperSolve\", json.dumps(hs_config), mesh, comm)\n",
    "\n"
   ]
  },
  {
   "cell_type": "markdown",
   "metadata": {
    "pycharm": {
     "name": "#%% md\n"
    }
   },
   "source": [
    "\n",
    "Now define a function to compute the residual norm of each equation\n"
   ]
  },
  {
   "cell_type": "code",
   "execution_count": 2,
   "metadata": {
    "pycharm": {
     "is_executing": false,
     "name": "#%%\n"
    }
   },
   "outputs": [],
   "source": [
    "\n",
    "def calcEquationResidualNorms(hypersolve_solver):\n",
    "    from math import sqrt\n",
    "    equation_names = [\"mass\", \"x-momentum\", \"y-momentum\", \"z-momentum\", \"total-energy\"]\n",
    "    eqn_l2_norms = []\n",
    "    for name in equation_names:\n",
    "        residual = hypersolve_solver.field(\"%s-residual\" % name)\n",
    "        l2 = 0\n",
    "        for node_id in range(residual.size()):\n",
    "            l2 += residual.at(node_id)[0]**2\n",
    "        eqn_l2_norms.append(sqrt(l2))\n",
    "    return eqn_l2_norms\n"
   ]
  },
  {
   "cell_type": "markdown",
   "metadata": {
    "pycharm": {
     "name": "#%% md\n"
    }
   },
   "source": [
    "\n",
    "Now run the main solver iteration loop, and use the above function to monitor the residual\n"
   ]
  },
  {
   "cell_type": "code",
   "execution_count": 3,
   "metadata": {
    "pycharm": {
     "is_executing": false,
     "name": "#%%\n"
    }
   },
   "outputs": [
    {
     "ename": "KeyboardInterrupt",
     "evalue": "",
     "output_type": "error",
     "traceback": [
      "\u001b[0;31m---------------------------------------------------------------------------\u001b[0m",
      "\u001b[0;31mKeyboardInterrupt\u001b[0m                         Traceback (most recent call last)",
      "\u001b[0;32m<ipython-input-3-fc28b444f138>\u001b[0m in \u001b[0;36m<module>\u001b[0;34m\u001b[0m\n\u001b[1;32m     11\u001b[0m \u001b[0;34m\u001b[0m\u001b[0m\n\u001b[1;32m     12\u001b[0m \u001b[0;32mfor\u001b[0m \u001b[0miteration\u001b[0m \u001b[0;32min\u001b[0m \u001b[0mrange\u001b[0m\u001b[0;34m(\u001b[0m\u001b[0mmax_steps\u001b[0m\u001b[0;34m)\u001b[0m\u001b[0;34m:\u001b[0m\u001b[0;34m\u001b[0m\u001b[0;34m\u001b[0m\u001b[0m\n\u001b[0;32m---> 13\u001b[0;31m         \u001b[0msolver\u001b[0m\u001b[0;34m.\u001b[0m\u001b[0msolve\u001b[0m\u001b[0;34m(\u001b[0m\u001b[0;34m)\u001b[0m\u001b[0;34m\u001b[0m\u001b[0;34m\u001b[0m\u001b[0m\n\u001b[0m\u001b[1;32m     14\u001b[0m         \u001b[0mplt\u001b[0m\u001b[0;34m.\u001b[0m\u001b[0mxlabel\u001b[0m\u001b[0;34m(\u001b[0m\u001b[0;34m\"iteration\"\u001b[0m\u001b[0;34m)\u001b[0m\u001b[0;34m\u001b[0m\u001b[0;34m\u001b[0m\u001b[0m\n\u001b[1;32m     15\u001b[0m         \u001b[0mplt\u001b[0m\u001b[0;34m.\u001b[0m\u001b[0mylabel\u001b[0m\u001b[0;34m(\u001b[0m\u001b[0;34m\"Residual L2 Norm\"\u001b[0m\u001b[0;34m)\u001b[0m\u001b[0;34m\u001b[0m\u001b[0;34m\u001b[0m\u001b[0m\n",
      "\u001b[0;31mKeyboardInterrupt\u001b[0m: "
     ]
    }
   ],
   "source": [
    "from matplotlib import pyplot as plt\n",
    "from ipywidgets import interactive\n",
    "from IPython.display import display,clear_output\n",
    "\n",
    "\n",
    "%matplotlib inline\n",
    "\n",
    "max_steps = 100\n",
    "iterations = []\n",
    "eqn_l2_norms = []\n",
    "\n",
    "for iteration in range(max_steps):\n",
    "        solver.solve()\n",
    "        plt.xlabel(\"iteration\")\n",
    "        plt.ylabel(\"Residual L2 Norm\")\n",
    "        plt.yscale(\"log\")\n",
    "        iterations.append(iteration)\n",
    "        eqn_l2_norms.append(calcEquationResidualNorms(solver))\n",
    "        plt.plot(iterations, eqn_l2_norms)\n",
    "        plt.show()\n",
    "        plt.clf()\n",
    "        plt.cla()\n",
    "        plt.close()\n",
    "        clear_output(wait=True)\n"
   ]
  },
  {
   "cell_type": "markdown",
   "metadata": {
    "pycharm": {
     "name": "#%% md\n"
    }
   },
   "source": [
    "\n",
    "Now shut down MPI\n"
   ]
  },
  {
   "cell_type": "code",
   "execution_count": 4,
   "metadata": {
    "pycharm": {
     "is_executing": false,
     "name": "#%%\n"
    }
   },
   "outputs": [],
   "source": [
    "infinity.finalizeMPI()\n",
    "\n"
   ]
  },
  {
   "cell_type": "code",
   "execution_count": null,
   "metadata": {
    "pycharm": {
     "name": "#%%\n"
    }
   },
   "outputs": [],
   "source": [
    "\n"
   ]
  }
 ],
 "metadata": {
  "kernelspec": {
   "display_name": "Python 3",
   "language": "python",
   "name": "python3"
  },
  "language_info": {
   "codemirror_mode": {
    "name": "ipython",
    "version": 3
   },
   "file_extension": ".py",
   "mimetype": "text/x-python",
   "name": "python",
   "nbconvert_exporter": "python",
   "pygments_lexer": "ipython3",
   "version": "3.7.3"
  },
  "pycharm": {
   "stem_cell": {
    "cell_type": "raw",
    "metadata": {
     "collapsed": false
    },
    "source": []
   }
  }
 },
 "nbformat": 4,
 "nbformat_minor": 1
}
